{
 "cells": [
  {
   "cell_type": "code",
   "execution_count": 1,
   "id": "9UREJTGe472I",
   "metadata": {
    "colab": {
     "base_uri": "https://localhost:8080/"
    },
    "executionInfo": {
     "elapsed": 7,
     "status": "ok",
     "timestamp": 1713442322845,
     "user": {
      "displayName": "SW Kim",
      "userId": "01255046753553274360"
     },
     "user_tz": -540
    },
    "id": "9UREJTGe472I",
    "outputId": "13067cc7-6f53-4b02-c00d-b7babefedac5"
   },
   "outputs": [
    {
     "name": "stdout",
     "output_type": "stream",
     "text": [
      "Thu May  1 15:27:09 2025       \n",
      "+---------------------------------------------------------------------------------------+\n",
      "| NVIDIA-SMI 535.183.01             Driver Version: 535.183.01   CUDA Version: 12.2     |\n",
      "|-----------------------------------------+----------------------+----------------------+\n",
      "| GPU  Name                 Persistence-M | Bus-Id        Disp.A | Volatile Uncorr. ECC |\n",
      "| Fan  Temp   Perf          Pwr:Usage/Cap |         Memory-Usage | GPU-Util  Compute M. |\n",
      "|                                         |                      |               MIG M. |\n",
      "|=========================================+======================+======================|\n",
      "|   0  NVIDIA GeForce RTX 3060 Ti     Off | 00000000:02:00.0  On |                  N/A |\n",
      "|  0%   46C    P5              18W / 200W |   1235MiB /  8192MiB |     29%      Default |\n",
      "|                                         |                      |                  N/A |\n",
      "+-----------------------------------------+----------------------+----------------------+\n",
      "                                                                                         \n",
      "+---------------------------------------------------------------------------------------+\n",
      "| Processes:                                                                            |\n",
      "|  GPU   GI   CI        PID   Type   Process name                            GPU Memory |\n",
      "|        ID   ID                                                             Usage      |\n",
      "|=======================================================================================|\n",
      "|    0   N/A  N/A      1149      G   /usr/lib/xorg/Xorg                           85MiB |\n",
      "|    0   N/A  N/A      1954      G   /usr/lib/xorg/Xorg                          343MiB |\n",
      "|    0   N/A  N/A      2080      G   /usr/bin/gnome-shell                         67MiB |\n",
      "|    0   N/A  N/A    717430      G   ...erProcess --variations-seed-version      145MiB |\n",
      "|    0   N/A  N/A   1620308      G   ...seed-version=20250427-180121.986000       38MiB |\n",
      "|    0   N/A  N/A   2010610      G   /usr/bin/anydesk                             58MiB |\n",
      "|    0   N/A  N/A   2951356      C   /home/q/anaconda3/bin/python                468MiB |\n",
      "+---------------------------------------------------------------------------------------+\n"
     ]
    }
   ],
   "source": [
    "!nvidia-smi"
   ]
  },
  {
   "cell_type": "code",
   "execution_count": 5,
   "id": "25e36c99",
   "metadata": {
    "executionInfo": {
     "elapsed": 2180,
     "status": "ok",
     "timestamp": 1713442374334,
     "user": {
      "displayName": "SW Kim",
      "userId": "01255046753553274360"
     },
     "user_tz": -540
    },
    "id": "25e36c99"
   },
   "outputs": [],
   "source": [
    "import numpy as np\n",
    "import cupy as cp\n",
    "import time"
   ]
  },
  {
   "cell_type": "code",
   "execution_count": 6,
   "id": "4a12caab",
   "metadata": {
    "executionInfo": {
     "elapsed": 435,
     "status": "ok",
     "timestamp": 1713442399381,
     "user": {
      "displayName": "SW Kim",
      "userId": "01255046753553274360"
     },
     "user_tz": -540
    },
    "id": "4a12caab"
   },
   "outputs": [],
   "source": [
    "def numpy_test(n):\n",
    "    a = np.random.rand(n,n)\n",
    "    b = np.random.rand(n,n)\n",
    "    result1 = np.matmul(a,b)\n",
    "\n",
    "def cupy_test(n):\n",
    "    a = cp.random.rand(n,n)\n",
    "    b = cp.random.rand(n,n)\n",
    "    result1 = cp.matmul(a,b)"
   ]
  },
  {
   "cell_type": "code",
   "execution_count": 7,
   "id": "7359be04",
   "metadata": {
    "colab": {
     "base_uri": "https://localhost:8080/"
    },
    "executionInfo": {
     "elapsed": 1078,
     "status": "ok",
     "timestamp": 1713442409046,
     "user": {
      "displayName": "SW Kim",
      "userId": "01255046753553274360"
     },
     "user_tz": -540
    },
    "id": "7359be04",
    "outputId": "76dbed34-a4f2-4f61-ae26-67ff1603f293"
   },
   "outputs": [
    {
     "name": "stdout",
     "output_type": "stream",
     "text": [
      "0.03816032409667969\n",
      "0.41429758071899414\n"
     ]
    }
   ],
   "source": [
    "stime = time.time()\n",
    "numpy_test(100)\n",
    "print(time.time()-stime)\n",
    "\n",
    "stime = time.time()\n",
    "cupy_test(100)\n",
    "print(time.time()-stime)"
   ]
  },
  {
   "cell_type": "markdown",
   "id": "3645e555",
   "metadata": {},
   "source": [
    "# 교수님이랑 수업에소~~"
   ]
  },
  {
   "cell_type": "markdown",
   "id": "a3211903",
   "metadata": {},
   "source": [
    "## 1. 구냥 for문"
   ]
  },
  {
   "cell_type": "code",
   "execution_count": 34,
   "id": "21fa8655",
   "metadata": {},
   "outputs": [
    {
     "name": "stdout",
     "output_type": "stream",
     "text": [
      "0.20935368537902832\n"
     ]
    },
    {
     "data": {
      "text/plain": [
       "1000705.6947982503"
      ]
     },
     "execution_count": 34,
     "metadata": {},
     "output_type": "execute_result"
    }
   ],
   "source": [
    "## 99 페이지\n",
    "# 이건 구냥 for문 돌릴때 !\n",
    "import time\n",
    "stime = time.time()\n",
    "x =   np.random.normal(0,1,1000000)\n",
    "sum = 0\n",
    "for i in range (len(x)):\n",
    "    sum += x[i]*x[i]\n",
    "print(time.time()-stime)\n",
    "sum"
   ]
  },
  {
   "cell_type": "markdown",
   "id": "1e2b0d35",
   "metadata": {},
   "source": [
    "## 2. cupy - for 문"
   ]
  },
  {
   "cell_type": "code",
   "execution_count": 37,
   "id": "c26d891b",
   "metadata": {},
   "outputs": [
    {
     "name": "stdout",
     "output_type": "stream",
     "text": [
      "14.363718271255493\n"
     ]
    }
   ],
   "source": [
    "# 쿠파이로 하는 방법~\n",
    "stime = time.time()\n",
    "x_gpu = cp.asarray(x)\n",
    "sum = 0\n",
    "for i in range(len(x_gpu)):\n",
    "    sum += x_gpu[i]*x_gpu[i]\n",
    "sum\n",
    "\n",
    "print(time.time()-stime)"
   ]
  },
  {
   "cell_type": "markdown",
   "id": "a97ba26c",
   "metadata": {},
   "source": [
    "## 3. cupy - x.T * x"
   ]
  },
  {
   "cell_type": "code",
   "execution_count": null,
   "id": "34b034c0",
   "metadata": {},
   "outputs": [
    {
     "name": "stdout",
     "output_type": "stream",
     "text": [
      "0.003134489059448242\n"
     ]
    }
   ],
   "source": [
    "# 쿠파이로 하는 방법~\n",
    "stime = time.time()\n",
    "x_gpu = cp.asarray(x)\n",
    "cp.dot(x_gpu.T, x_gpu)\n",
    "# for i in range(len(x_gpu)):\n",
    "    # sum += x_gpu[i]*x_gpu[i]\n",
    "\n",
    "print(time.time()-stime)\n"
   ]
  },
  {
   "cell_type": "markdown",
   "id": "069733f9",
   "metadata": {},
   "source": [
    "## 4. numpy - x.T * x"
   ]
  },
  {
   "cell_type": "code",
   "execution_count": null,
   "id": "6a42d049",
   "metadata": {},
   "outputs": [
    {
     "name": "stdout",
     "output_type": "stream",
     "text": [
      "0.007008790969848633\n"
     ]
    }
   ],
   "source": [
    "# 쿠파이로 하는 방법~\n",
    "stime = time.time()\n",
    "\n",
    "np.dot(x.T, x)\n",
    "# for i in range(len(x_gpu)):\n",
    "    # sum += x_gpu[i]*x_gpu[i]\n",
    "sum\n",
    "print(time.time()-stime)"
   ]
  },
  {
   "cell_type": "code",
   "execution_count": null,
   "id": "ffa88229",
   "metadata": {},
   "outputs": [],
   "source": []
  },
  {
   "cell_type": "code",
   "execution_count": 8,
   "id": "aa7a0f57",
   "metadata": {
    "colab": {
     "base_uri": "https://localhost:8080/"
    },
    "executionInfo": {
     "elapsed": 413,
     "status": "ok",
     "timestamp": 1713442502791,
     "user": {
      "displayName": "SW Kim",
      "userId": "01255046753553274360"
     },
     "user_tz": -540
    },
    "id": "aa7a0f57",
    "outputId": "b369725d-b5eb-4de7-a470-20efcfb0ce5f"
   },
   "outputs": [
    {
     "name": "stdout",
     "output_type": "stream",
     "text": [
      "0.0206301212310791\n",
      "0.0017046928405761719\n"
     ]
    }
   ],
   "source": [
    "stime = time.time()\n",
    "numpy_test(1000)\n",
    "print(time.time()-stime)\n",
    "\n",
    "stime = time.time()\n",
    "cupy_test(1000)\n",
    "print(time.time()-stime)"
   ]
  },
  {
   "cell_type": "code",
   "execution_count": 9,
   "id": "76829582",
   "metadata": {
    "colab": {
     "base_uri": "https://localhost:8080/"
    },
    "executionInfo": {
     "elapsed": 42381,
     "status": "ok",
     "timestamp": 1713442563249,
     "user": {
      "displayName": "SW Kim",
      "userId": "01255046753553274360"
     },
     "user_tz": -540
    },
    "id": "76829582",
    "outputId": "abd58be3-99e9-47ab-f599-44ad06490597"
   },
   "outputs": [
    {
     "name": "stdout",
     "output_type": "stream",
     "text": [
      "5.790710210800171\n",
      "0.0010285377502441406\n"
     ]
    }
   ],
   "source": [
    "stime = time.time()\n",
    "numpy_test(10000)\n",
    "print(time.time()-stime)\n",
    "\n",
    "stime = time.time()\n",
    "cupy_test(10000)\n",
    "print(time.time()-stime)"
   ]
  },
  {
   "cell_type": "code",
   "execution_count": 10,
   "id": "56b622ba",
   "metadata": {
    "colab": {
     "base_uri": "https://localhost:8080/"
    },
    "executionInfo": {
     "elapsed": 479,
     "status": "ok",
     "timestamp": 1713442597065,
     "user": {
      "displayName": "SW Kim",
      "userId": "01255046753553274360"
     },
     "user_tz": -540
    },
    "id": "56b622ba",
    "outputId": "7e378cda-8112-429d-f0f3-c2bf938d74f4"
   },
   "outputs": [
    {
     "name": "stdout",
     "output_type": "stream",
     "text": [
      "32.22710801550753 0.0052487850189208984\n"
     ]
    }
   ],
   "source": [
    "stime = time.time()\n",
    "x = np.random.normal(0,1,1000)\n",
    "summ = 0.\n",
    "for i in range(x.shape[0]):\n",
    "    summ += x[i]\n",
    "etime = time.time() - stime\n",
    "print(summ, etime)"
   ]
  },
  {
   "cell_type": "code",
   "execution_count": 11,
   "id": "ZHgHWvUh0I8z",
   "metadata": {
    "colab": {
     "base_uri": "https://localhost:8080/"
    },
    "executionInfo": {
     "elapsed": 1033,
     "status": "ok",
     "timestamp": 1713442659270,
     "user": {
      "displayName": "SW Kim",
      "userId": "01255046753553274360"
     },
     "user_tz": -540
    },
    "id": "ZHgHWvUh0I8z",
    "outputId": "bfd50741-f512-44fe-b85f-c2bc1654f611"
   },
   "outputs": [
    {
     "name": "stdout",
     "output_type": "stream",
     "text": [
      "-0.20879929846965112 0.2813432216644287\n"
     ]
    }
   ],
   "source": [
    "stime = time.time()\n",
    "x = cp.random.normal(0,1,1000)\n",
    "summ = 0.\n",
    "for i in range(x.shape[0]):\n",
    "    summ += x[i]\n",
    "etime = time.time() - stime\n",
    "print(summ, etime)\n"
   ]
  },
  {
   "cell_type": "code",
   "execution_count": 12,
   "id": "2d9W74Gh0pAK",
   "metadata": {
    "executionInfo": {
     "elapsed": 440,
     "status": "ok",
     "timestamp": 1713442807977,
     "user": {
      "displayName": "SW Kim",
      "userId": "01255046753553274360"
     },
     "user_tz": -540
    },
    "id": "2d9W74Gh0pAK"
   },
   "outputs": [],
   "source": [
    "squared_diff = cp.ElementwiseKernel(\n",
    "...    'float32 x, float32 y',\n",
    "...    'float32 z',\n",
    "...    'z = (x - y) * (x - y)',\n",
    "...    'squared_diff')"
   ]
  },
  {
   "cell_type": "code",
   "execution_count": 13,
   "id": "2RFoOBgrZzAx",
   "metadata": {
    "executionInfo": {
     "elapsed": 475,
     "status": "ok",
     "timestamp": 1713442810237,
     "user": {
      "displayName": "SW Kim",
      "userId": "01255046753553274360"
     },
     "user_tz": -540
    },
    "id": "2RFoOBgrZzAx"
   },
   "outputs": [],
   "source": [
    "xx = cp.array([[0., 1., 2., 3., 4.],\n",
    "              [5., 6., 7., 8., 9.]]).astype('float32')"
   ]
  },
  {
   "cell_type": "code",
   "execution_count": 14,
   "id": "1XmxZAsm5r16",
   "metadata": {
    "executionInfo": {
     "elapsed": 3,
     "status": "ok",
     "timestamp": 1713442811265,
     "user": {
      "displayName": "SW Kim",
      "userId": "01255046753553274360"
     },
     "user_tz": -540
    },
    "id": "1XmxZAsm5r16"
   },
   "outputs": [],
   "source": [
    "yy = cp.array([0., 1., 2., 3., 4.]).astype('float32')"
   ]
  },
  {
   "cell_type": "code",
   "execution_count": 15,
   "id": "wHSKyRKq56HT",
   "metadata": {
    "colab": {
     "base_uri": "https://localhost:8080/"
    },
    "executionInfo": {
     "elapsed": 526,
     "status": "ok",
     "timestamp": 1713442843946,
     "user": {
      "displayName": "SW Kim",
      "userId": "01255046753553274360"
     },
     "user_tz": -540
    },
    "id": "wHSKyRKq56HT",
    "outputId": "bcee5b0a-c393-4e49-9153-6c581b8901ef"
   },
   "outputs": [
    {
     "data": {
      "text/plain": [
       "array([[ 0.,  0.,  0.,  0.,  0.],\n",
       "       [25., 25., 25., 25., 25.]], dtype=float32)"
      ]
     },
     "execution_count": 15,
     "metadata": {},
     "output_type": "execute_result"
    }
   ],
   "source": [
    "zz = squared_diff(xx, yy)\n",
    "zz"
   ]
  },
  {
   "cell_type": "code",
   "execution_count": 16,
   "id": "qjDWr1Wj_c68",
   "metadata": {
    "executionInfo": {
     "elapsed": 416,
     "status": "ok",
     "timestamp": 1713442867183,
     "user": {
      "displayName": "SW Kim",
      "userId": "01255046753553274360"
     },
     "user_tz": -540
    },
    "id": "qjDWr1Wj_c68"
   },
   "outputs": [],
   "source": [
    "xx = cp.array([0., 1., 2., 3., 4.]).astype('float32')\n",
    "yy = cp.array([0., 1., 2., 3., 4.]).astype('float32')"
   ]
  },
  {
   "cell_type": "code",
   "execution_count": 17,
   "id": "AhUEtTPV581L",
   "metadata": {
    "executionInfo": {
     "elapsed": 7,
     "status": "ok",
     "timestamp": 1713442868906,
     "user": {
      "displayName": "SW Kim",
      "userId": "01255046753553274360"
     },
     "user_tz": -540
    },
    "id": "AhUEtTPV581L"
   },
   "outputs": [],
   "source": [
    "add_reverse = cp.ElementwiseKernel(\n",
    "     'float32 x, raw float32 y',\n",
    "     'float32 z',\n",
    "     'z = x + y[_ind.size() - i - 1]',\n",
    "     'add_reverse')"
   ]
  },
  {
   "cell_type": "code",
   "execution_count": 18,
   "id": "czc3B7Oc9TJJ",
   "metadata": {
    "colab": {
     "base_uri": "https://localhost:8080/"
    },
    "executionInfo": {
     "elapsed": 474,
     "status": "ok",
     "timestamp": 1713442898293,
     "user": {
      "displayName": "SW Kim",
      "userId": "01255046753553274360"
     },
     "user_tz": -540
    },
    "id": "czc3B7Oc9TJJ",
    "outputId": "58a58948-a658-4c59-80fd-4c9558b5374f"
   },
   "outputs": [
    {
     "data": {
      "text/plain": [
       "array([4., 4., 4., 4., 4.], dtype=float32)"
      ]
     },
     "execution_count": 18,
     "metadata": {},
     "output_type": "execute_result"
    }
   ],
   "source": [
    "zz = add_reverse(xx, yy)\n",
    "zz"
   ]
  },
  {
   "cell_type": "code",
   "execution_count": 19,
   "id": "Y_qKDIhO9kaB",
   "metadata": {
    "colab": {
     "base_uri": "https://localhost:8080/"
    },
    "executionInfo": {
     "elapsed": 7372,
     "status": "ok",
     "timestamp": 1713442906079,
     "user": {
      "displayName": "SW Kim",
      "userId": "01255046753553274360"
     },
     "user_tz": -540
    },
    "id": "Y_qKDIhO9kaB",
    "outputId": "bd92fd61-fb93-4c4b-a359-265ef993f793"
   },
   "outputs": [
    {
     "data": {
      "text/plain": [
       "array(16.881943, dtype=float32)"
      ]
     },
     "execution_count": 19,
     "metadata": {},
     "output_type": "execute_result"
    }
   ],
   "source": [
    "l2norm_kernel = cp.ReductionKernel(\n",
    "    'T x',  # input params\n",
    "    'T y',  # output params\n",
    "    'x * x',  # map\n",
    "    'a + b',  # reduce\n",
    "    'y = sqrt(a)',  # post-reduction map\n",
    "    '0',  # identity value   <- 뭔지 모르겠음\n",
    "    'l2norm'  # kernel name\n",
    ")\n",
    "x = cp.arange(10, dtype=np.float32)\n",
    "l2norm_kernel(x)"
   ]
  },
  {
   "cell_type": "code",
   "execution_count": 20,
   "id": "79AzX-9TFarF",
   "metadata": {
    "colab": {
     "base_uri": "https://localhost:8080/"
    },
    "executionInfo": {
     "elapsed": 14,
     "status": "ok",
     "timestamp": 1713442906079,
     "user": {
      "displayName": "SW Kim",
      "userId": "01255046753553274360"
     },
     "user_tz": -540
    },
    "id": "79AzX-9TFarF",
    "outputId": "15427a99-6768-490b-e875-56b4fec8482a"
   },
   "outputs": [
    {
     "data": {
      "text/plain": [
       "array([0., 1., 2., 3., 4., 5., 6., 7., 8., 9.], dtype=float32)"
      ]
     },
     "execution_count": 20,
     "metadata": {},
     "output_type": "execute_result"
    }
   ],
   "source": [
    "x"
   ]
  },
  {
   "cell_type": "code",
   "execution_count": 21,
   "id": "vwRy3gvytLNk",
   "metadata": {
    "executionInfo": {
     "elapsed": 1,
     "status": "ok",
     "timestamp": 1713442920246,
     "user": {
      "displayName": "SW Kim",
      "userId": "01255046753553274360"
     },
     "user_tz": -540
    },
    "id": "vwRy3gvytLNk"
   },
   "outputs": [],
   "source": [
    "x_cpu = x.get()"
   ]
  },
  {
   "cell_type": "code",
   "execution_count": 20,
   "id": "LenQwYj4usxk",
   "metadata": {
    "colab": {
     "base_uri": "https://localhost:8080/"
    },
    "executionInfo": {
     "elapsed": 2,
     "status": "ok",
     "timestamp": 1713442920762,
     "user": {
      "displayName": "SW Kim",
      "userId": "01255046753553274360"
     },
     "user_tz": -540
    },
    "id": "LenQwYj4usxk",
    "outputId": "7d1ae1eb-21f3-4518-808f-88f6fb273c1b"
   },
   "outputs": [
    {
     "data": {
      "text/plain": [
       "array([0., 1., 2., 3., 4., 5., 6., 7., 8., 9.], dtype=float32)"
      ]
     },
     "execution_count": 20,
     "metadata": {},
     "output_type": "execute_result"
    }
   ],
   "source": [
    "x_cpu"
   ]
  },
  {
   "cell_type": "code",
   "execution_count": 21,
   "id": "esNSm-k6uvwl",
   "metadata": {
    "colab": {
     "base_uri": "https://localhost:8080/"
    },
    "executionInfo": {
     "elapsed": 1,
     "status": "ok",
     "timestamp": 1713442922790,
     "user": {
      "displayName": "SW Kim",
      "userId": "01255046753553274360"
     },
     "user_tz": -540
    },
    "id": "esNSm-k6uvwl",
    "outputId": "0634d810-feae-4d53-fb3b-bd0d9d64f497"
   },
   "outputs": [
    {
     "data": {
      "text/plain": [
       "16.881943"
      ]
     },
     "execution_count": 21,
     "metadata": {},
     "output_type": "execute_result"
    }
   ],
   "source": [
    "np.sqrt(np.sum(x_cpu**2))"
   ]
  },
  {
   "cell_type": "code",
   "execution_count": 22,
   "id": "a4GntlTF50hf",
   "metadata": {
    "colab": {
     "base_uri": "https://localhost:8080/"
    },
    "executionInfo": {
     "elapsed": 508,
     "status": "ok",
     "timestamp": 1713442954460,
     "user": {
      "displayName": "SW Kim",
      "userId": "01255046753553274360"
     },
     "user_tz": -540
    },
    "id": "a4GntlTF50hf",
    "outputId": "10a197f6-ff89-459c-f546-3cd1a7ddcaf2"
   },
   "outputs": [
    {
     "data": {
      "text/plain": [
       "16.881943"
      ]
     },
     "execution_count": 22,
     "metadata": {},
     "output_type": "execute_result"
    }
   ],
   "source": [
    "from numpy import linalg as la\n",
    "la.norm(x_cpu)"
   ]
  },
  {
   "cell_type": "code",
   "execution_count": null,
   "id": "ydLJcxqCXIlx",
   "metadata": {
    "id": "ydLJcxqCXIlx"
   },
   "outputs": [],
   "source": [
    "@cp.fuse()\n",
    "def squared_diff(x, y):\n",
    "    return (x - y) * (x - y)"
   ]
  },
  {
   "cell_type": "code",
   "execution_count": null,
   "id": "7NVUG2AjXjlh",
   "metadata": {
    "colab": {
     "base_uri": "https://localhost:8080/"
    },
    "executionInfo": {
     "elapsed": 640,
     "status": "ok",
     "timestamp": 1713423496331,
     "user": {
      "displayName": "SW Kim",
      "userId": "01255046753553274360"
     },
     "user_tz": -540
    },
    "id": "7NVUG2AjXjlh",
    "outputId": "298b131e-06b3-4136-9042-a27e7f991994"
   },
   "outputs": [
    {
     "data": {
      "text/plain": [
       "array([81, 49, 25,  9,  1,  1,  9, 25, 49, 81])"
      ]
     },
     "execution_count": 24,
     "metadata": {},
     "output_type": "execute_result"
    }
   ],
   "source": [
    "x_cp = cp.arange(10)\n",
    "y_cp = cp.arange(10)[::-1]\n",
    "squared_diff(x_cp, y_cp)\n",
    "\n"
   ]
  },
  {
   "cell_type": "code",
   "execution_count": null,
   "id": "8DFCd-USXt5h",
   "metadata": {
    "colab": {
     "base_uri": "https://localhost:8080/"
    },
    "executionInfo": {
     "elapsed": 691,
     "status": "ok",
     "timestamp": 1713423524881,
     "user": {
      "displayName": "SW Kim",
      "userId": "01255046753553274360"
     },
     "user_tz": -540
    },
    "id": "8DFCd-USXt5h",
    "outputId": "4ed01769-a875-42b7-c001-020082937283"
   },
   "outputs": [
    {
     "data": {
      "text/plain": [
       "(array([0, 1, 2, 3, 4, 5, 6, 7, 8, 9]), array([9, 8, 7, 6, 5, 4, 3, 2, 1, 0]))"
      ]
     },
     "execution_count": 25,
     "metadata": {},
     "output_type": "execute_result"
    }
   ],
   "source": [
    "x_cp, y_cp"
   ]
  },
  {
   "cell_type": "code",
   "execution_count": null,
   "id": "CevywsQ_YSym",
   "metadata": {
    "colab": {
     "base_uri": "https://localhost:8080/"
    },
    "executionInfo": {
     "elapsed": 1085,
     "status": "ok",
     "timestamp": 1713423529684,
     "user": {
      "displayName": "SW Kim",
      "userId": "01255046753553274360"
     },
     "user_tz": -540
    },
    "id": "CevywsQ_YSym",
    "outputId": "8e6e8cc5-2198-4e5d-ccb1-24af616f8b44"
   },
   "outputs": [
    {
     "data": {
      "text/plain": [
       "array(16.881943, dtype=float32)"
      ]
     },
     "execution_count": 26,
     "metadata": {},
     "output_type": "execute_result"
    }
   ],
   "source": [
    "@cp.fuse()\n",
    "def l2norm(x):\n",
    "    return cp.sqrt(cp.sum(x * x))\n",
    "l2norm(x)"
   ]
  },
  {
   "cell_type": "code",
   "execution_count": null,
   "id": "5qneJTmLfTMF",
   "metadata": {
    "id": "5qneJTmLfTMF"
   },
   "outputs": [],
   "source": []
  }
 ],
 "metadata": {
  "accelerator": "GPU",
  "colab": {
   "gpuType": "V100",
   "provenance": []
  },
  "kernelspec": {
   "display_name": "base",
   "language": "python",
   "name": "python3"
  },
  "language_info": {
   "codemirror_mode": {
    "name": "ipython",
    "version": 3
   },
   "file_extension": ".py",
   "mimetype": "text/x-python",
   "name": "python",
   "nbconvert_exporter": "python",
   "pygments_lexer": "ipython3",
   "version": "3.11.7"
  }
 },
 "nbformat": 4,
 "nbformat_minor": 5
}
