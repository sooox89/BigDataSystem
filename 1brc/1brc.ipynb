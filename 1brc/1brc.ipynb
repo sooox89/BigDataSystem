{
 "cells": [
  {
   "cell_type": "code",
   "execution_count": null,
   "metadata": {
    "colab": {
     "base_uri": "https://localhost:8080/"
    },
    "executionInfo": {
     "elapsed": 308129,
     "status": "ok",
     "timestamp": 1746622176239,
     "user": {
      "displayName": "SW Kim",
      "userId": "01255046753553274360"
     },
     "user_tz": -540
    },
    "id": "OtFUwNwm4slK",
    "outputId": "fc284430-c445-4b51-9661-bf526da0eed0"
   },
   "outputs": [
    {
     "name": "stdout",
     "output_type": "stream",
     "text": [
      "CPU times: user 2min 56s, sys: 47 s, total: 3min 43s\n",
      "Wall time: 5min 8s\n"
     ]
    }
   ],
   "source": [
    "%%time\n",
    "# colab 기본에서는 못 읽는다. colab pro 정도는 되어야 한다. 고용량 RAM 사용\n",
    "import pandas as pd\n",
    "temp = pd.read_csv('/home/q/casey/BigDataSystem/1brc/measurements-004.txt', delimiter=\";\", names=['location', 'temperature'], header=None)\n"
   ]
  },
  {
   "cell_type": "code",
   "execution_count": 3,
   "metadata": {
    "colab": {
     "base_uri": "https://localhost:8080/",
     "height": 522
    },
    "executionInfo": {
     "elapsed": 86627,
     "status": "ok",
     "timestamp": 1746622269376,
     "user": {
      "displayName": "SW Kim",
      "userId": "01255046753553274360"
     },
     "user_tz": -540
    },
    "id": "XaIEwtz74slM",
    "outputId": "1a000712-d1be-4bb6-944b-907008cc4317"
   },
   "outputs": [
    {
     "name": "stdout",
     "output_type": "stream",
     "text": [
      "CPU times: user 1min 14s, sys: 14 s, total: 1min 28s\n",
      "Wall time: 1min 26s\n"
     ]
    },
    {
     "data": {
      "application/vnd.google.colaboratory.intrinsic+json": {
       "summary": "{\n  \"name\": \"get_ipython()\",\n  \"rows\": 413,\n  \"fields\": [\n    {\n      \"column\": [\n        \"location\",\n        \"\"\n      ],\n      \"properties\": {\n        \"dtype\": \"string\",\n        \"num_unique_values\": 413,\n        \"samples\": [\n          \"Wau\",\n          \"Suwa\\u0142ki\",\n          \"Wroc\\u0142aw\"\n        ],\n        \"semantic_type\": \"\",\n        \"description\": \"\"\n      }\n    },\n    {\n      \"column\": [\n        \"temperature\",\n        \"min\"\n      ],\n      \"properties\": {\n        \"dtype\": \"number\",\n        \"std\": 8.723109445742796,\n        \"min\": -64.8,\n        \"max\": -16.4,\n        \"num_unique_values\": 225,\n        \"samples\": [\n          -36.8,\n          -38.2,\n          -36.6\n        ],\n        \"semantic_type\": \"\",\n        \"description\": \"\"\n      }\n    },\n    {\n      \"column\": [\n        \"temperature\",\n        \"mean\"\n      ],\n      \"properties\": {\n        \"dtype\": \"number\",\n        \"std\": 8.258837795517602,\n        \"min\": -14.403757854060705,\n        \"max\": 30.49893424856984,\n        \"num_unique_values\": 413,\n        \"samples\": [\n          27.797726948091356,\n          7.191599157970555,\n          9.597849803612863\n        ],\n        \"semantic_type\": \"\",\n        \"description\": \"\"\n      }\n    },\n    {\n      \"column\": [\n        \"temperature\",\n        \"max\"\n      ],\n      \"properties\": {\n        \"dtype\": \"number\",\n        \"std\": 8.424240925034546,\n        \"min\": 35.7,\n        \"max\": 87.2,\n        \"num_unique_values\": 216,\n        \"samples\": [\n          65.6,\n          42.2,\n          77.7\n        ],\n        \"semantic_type\": \"\",\n        \"description\": \"\"\n      }\n    }\n  ]\n}",
       "type": "dataframe"
      },
      "text/html": [
       "\n",
       "  <div id=\"df-4b9fa957-6576-4123-aecc-d311b1e1fa4d\" class=\"colab-df-container\">\n",
       "    <div>\n",
       "<style scoped>\n",
       "    .dataframe tbody tr th:only-of-type {\n",
       "        vertical-align: middle;\n",
       "    }\n",
       "\n",
       "    .dataframe tbody tr th {\n",
       "        vertical-align: top;\n",
       "    }\n",
       "\n",
       "    .dataframe thead tr th {\n",
       "        text-align: left;\n",
       "    }\n",
       "\n",
       "    .dataframe thead tr:last-of-type th {\n",
       "        text-align: right;\n",
       "    }\n",
       "</style>\n",
       "<table border=\"1\" class=\"dataframe\">\n",
       "  <thead>\n",
       "    <tr>\n",
       "      <th></th>\n",
       "      <th colspan=\"3\" halign=\"left\">temperature</th>\n",
       "    </tr>\n",
       "    <tr>\n",
       "      <th></th>\n",
       "      <th>min</th>\n",
       "      <th>mean</th>\n",
       "      <th>max</th>\n",
       "    </tr>\n",
       "    <tr>\n",
       "      <th>location</th>\n",
       "      <th></th>\n",
       "      <th></th>\n",
       "      <th></th>\n",
       "    </tr>\n",
       "  </thead>\n",
       "  <tbody>\n",
       "    <tr>\n",
       "      <th>Abha</th>\n",
       "      <td>-29.5</td>\n",
       "      <td>18.001155</td>\n",
       "      <td>71.6</td>\n",
       "    </tr>\n",
       "    <tr>\n",
       "      <th>Abidjan</th>\n",
       "      <td>-21.9</td>\n",
       "      <td>25.998862</td>\n",
       "      <td>76.3</td>\n",
       "    </tr>\n",
       "    <tr>\n",
       "      <th>Abéché</th>\n",
       "      <td>-16.8</td>\n",
       "      <td>29.399406</td>\n",
       "      <td>80.0</td>\n",
       "    </tr>\n",
       "    <tr>\n",
       "      <th>Accra</th>\n",
       "      <td>-26.1</td>\n",
       "      <td>26.394080</td>\n",
       "      <td>75.5</td>\n",
       "    </tr>\n",
       "    <tr>\n",
       "      <th>Addis Ababa</th>\n",
       "      <td>-34.2</td>\n",
       "      <td>15.992698</td>\n",
       "      <td>68.5</td>\n",
       "    </tr>\n",
       "    <tr>\n",
       "      <th>...</th>\n",
       "      <td>...</td>\n",
       "      <td>...</td>\n",
       "      <td>...</td>\n",
       "    </tr>\n",
       "    <tr>\n",
       "      <th>Zagreb</th>\n",
       "      <td>-37.7</td>\n",
       "      <td>10.705807</td>\n",
       "      <td>61.9</td>\n",
       "    </tr>\n",
       "    <tr>\n",
       "      <th>Zanzibar City</th>\n",
       "      <td>-20.6</td>\n",
       "      <td>25.997325</td>\n",
       "      <td>78.5</td>\n",
       "    </tr>\n",
       "    <tr>\n",
       "      <th>Zürich</th>\n",
       "      <td>-42.5</td>\n",
       "      <td>9.299623</td>\n",
       "      <td>59.5</td>\n",
       "    </tr>\n",
       "    <tr>\n",
       "      <th>Ürümqi</th>\n",
       "      <td>-44.2</td>\n",
       "      <td>7.405673</td>\n",
       "      <td>54.6</td>\n",
       "    </tr>\n",
       "    <tr>\n",
       "      <th>İzmir</th>\n",
       "      <td>-30.5</td>\n",
       "      <td>17.892632</td>\n",
       "      <td>64.3</td>\n",
       "    </tr>\n",
       "  </tbody>\n",
       "</table>\n",
       "<p>413 rows × 3 columns</p>\n",
       "</div>\n",
       "    <div class=\"colab-df-buttons\">\n",
       "\n",
       "  <div class=\"colab-df-container\">\n",
       "    <button class=\"colab-df-convert\" onclick=\"convertToInteractive('df-4b9fa957-6576-4123-aecc-d311b1e1fa4d')\"\n",
       "            title=\"Convert this dataframe to an interactive table.\"\n",
       "            style=\"display:none;\">\n",
       "\n",
       "  <svg xmlns=\"http://www.w3.org/2000/svg\" height=\"24px\" viewBox=\"0 -960 960 960\">\n",
       "    <path d=\"M120-120v-720h720v720H120Zm60-500h600v-160H180v160Zm220 220h160v-160H400v160Zm0 220h160v-160H400v160ZM180-400h160v-160H180v160Zm440 0h160v-160H620v160ZM180-180h160v-160H180v160Zm440 0h160v-160H620v160Z\"/>\n",
       "  </svg>\n",
       "    </button>\n",
       "\n",
       "  <style>\n",
       "    .colab-df-container {\n",
       "      display:flex;\n",
       "      gap: 12px;\n",
       "    }\n",
       "\n",
       "    .colab-df-convert {\n",
       "      background-color: #E8F0FE;\n",
       "      border: none;\n",
       "      border-radius: 50%;\n",
       "      cursor: pointer;\n",
       "      display: none;\n",
       "      fill: #1967D2;\n",
       "      height: 32px;\n",
       "      padding: 0 0 0 0;\n",
       "      width: 32px;\n",
       "    }\n",
       "\n",
       "    .colab-df-convert:hover {\n",
       "      background-color: #E2EBFA;\n",
       "      box-shadow: 0px 1px 2px rgba(60, 64, 67, 0.3), 0px 1px 3px 1px rgba(60, 64, 67, 0.15);\n",
       "      fill: #174EA6;\n",
       "    }\n",
       "\n",
       "    .colab-df-buttons div {\n",
       "      margin-bottom: 4px;\n",
       "    }\n",
       "\n",
       "    [theme=dark] .colab-df-convert {\n",
       "      background-color: #3B4455;\n",
       "      fill: #D2E3FC;\n",
       "    }\n",
       "\n",
       "    [theme=dark] .colab-df-convert:hover {\n",
       "      background-color: #434B5C;\n",
       "      box-shadow: 0px 1px 3px 1px rgba(0, 0, 0, 0.15);\n",
       "      filter: drop-shadow(0px 1px 2px rgba(0, 0, 0, 0.3));\n",
       "      fill: #FFFFFF;\n",
       "    }\n",
       "  </style>\n",
       "\n",
       "    <script>\n",
       "      const buttonEl =\n",
       "        document.querySelector('#df-4b9fa957-6576-4123-aecc-d311b1e1fa4d button.colab-df-convert');\n",
       "      buttonEl.style.display =\n",
       "        google.colab.kernel.accessAllowed ? 'block' : 'none';\n",
       "\n",
       "      async function convertToInteractive(key) {\n",
       "        const element = document.querySelector('#df-4b9fa957-6576-4123-aecc-d311b1e1fa4d');\n",
       "        const dataTable =\n",
       "          await google.colab.kernel.invokeFunction('convertToInteractive',\n",
       "                                                    [key], {});\n",
       "        if (!dataTable) return;\n",
       "\n",
       "        const docLinkHtml = 'Like what you see? Visit the ' +\n",
       "          '<a target=\"_blank\" href=https://colab.research.google.com/notebooks/data_table.ipynb>data table notebook</a>'\n",
       "          + ' to learn more about interactive tables.';\n",
       "        element.innerHTML = '';\n",
       "        dataTable['output_type'] = 'display_data';\n",
       "        await google.colab.output.renderOutput(dataTable, element);\n",
       "        const docLink = document.createElement('div');\n",
       "        docLink.innerHTML = docLinkHtml;\n",
       "        element.appendChild(docLink);\n",
       "      }\n",
       "    </script>\n",
       "  </div>\n",
       "\n",
       "\n",
       "    <div id=\"df-8427dc52-ce03-40aa-8076-0294246226c7\">\n",
       "      <button class=\"colab-df-quickchart\" onclick=\"quickchart('df-8427dc52-ce03-40aa-8076-0294246226c7')\"\n",
       "                title=\"Suggest charts\"\n",
       "                style=\"display:none;\">\n",
       "\n",
       "<svg xmlns=\"http://www.w3.org/2000/svg\" height=\"24px\"viewBox=\"0 0 24 24\"\n",
       "     width=\"24px\">\n",
       "    <g>\n",
       "        <path d=\"M19 3H5c-1.1 0-2 .9-2 2v14c0 1.1.9 2 2 2h14c1.1 0 2-.9 2-2V5c0-1.1-.9-2-2-2zM9 17H7v-7h2v7zm4 0h-2V7h2v10zm4 0h-2v-4h2v4z\"/>\n",
       "    </g>\n",
       "</svg>\n",
       "      </button>\n",
       "\n",
       "<style>\n",
       "  .colab-df-quickchart {\n",
       "      --bg-color: #E8F0FE;\n",
       "      --fill-color: #1967D2;\n",
       "      --hover-bg-color: #E2EBFA;\n",
       "      --hover-fill-color: #174EA6;\n",
       "      --disabled-fill-color: #AAA;\n",
       "      --disabled-bg-color: #DDD;\n",
       "  }\n",
       "\n",
       "  [theme=dark] .colab-df-quickchart {\n",
       "      --bg-color: #3B4455;\n",
       "      --fill-color: #D2E3FC;\n",
       "      --hover-bg-color: #434B5C;\n",
       "      --hover-fill-color: #FFFFFF;\n",
       "      --disabled-bg-color: #3B4455;\n",
       "      --disabled-fill-color: #666;\n",
       "  }\n",
       "\n",
       "  .colab-df-quickchart {\n",
       "    background-color: var(--bg-color);\n",
       "    border: none;\n",
       "    border-radius: 50%;\n",
       "    cursor: pointer;\n",
       "    display: none;\n",
       "    fill: var(--fill-color);\n",
       "    height: 32px;\n",
       "    padding: 0;\n",
       "    width: 32px;\n",
       "  }\n",
       "\n",
       "  .colab-df-quickchart:hover {\n",
       "    background-color: var(--hover-bg-color);\n",
       "    box-shadow: 0 1px 2px rgba(60, 64, 67, 0.3), 0 1px 3px 1px rgba(60, 64, 67, 0.15);\n",
       "    fill: var(--button-hover-fill-color);\n",
       "  }\n",
       "\n",
       "  .colab-df-quickchart-complete:disabled,\n",
       "  .colab-df-quickchart-complete:disabled:hover {\n",
       "    background-color: var(--disabled-bg-color);\n",
       "    fill: var(--disabled-fill-color);\n",
       "    box-shadow: none;\n",
       "  }\n",
       "\n",
       "  .colab-df-spinner {\n",
       "    border: 2px solid var(--fill-color);\n",
       "    border-color: transparent;\n",
       "    border-bottom-color: var(--fill-color);\n",
       "    animation:\n",
       "      spin 1s steps(1) infinite;\n",
       "  }\n",
       "\n",
       "  @keyframes spin {\n",
       "    0% {\n",
       "      border-color: transparent;\n",
       "      border-bottom-color: var(--fill-color);\n",
       "      border-left-color: var(--fill-color);\n",
       "    }\n",
       "    20% {\n",
       "      border-color: transparent;\n",
       "      border-left-color: var(--fill-color);\n",
       "      border-top-color: var(--fill-color);\n",
       "    }\n",
       "    30% {\n",
       "      border-color: transparent;\n",
       "      border-left-color: var(--fill-color);\n",
       "      border-top-color: var(--fill-color);\n",
       "      border-right-color: var(--fill-color);\n",
       "    }\n",
       "    40% {\n",
       "      border-color: transparent;\n",
       "      border-right-color: var(--fill-color);\n",
       "      border-top-color: var(--fill-color);\n",
       "    }\n",
       "    60% {\n",
       "      border-color: transparent;\n",
       "      border-right-color: var(--fill-color);\n",
       "    }\n",
       "    80% {\n",
       "      border-color: transparent;\n",
       "      border-right-color: var(--fill-color);\n",
       "      border-bottom-color: var(--fill-color);\n",
       "    }\n",
       "    90% {\n",
       "      border-color: transparent;\n",
       "      border-bottom-color: var(--fill-color);\n",
       "    }\n",
       "  }\n",
       "</style>\n",
       "\n",
       "      <script>\n",
       "        async function quickchart(key) {\n",
       "          const quickchartButtonEl =\n",
       "            document.querySelector('#' + key + ' button');\n",
       "          quickchartButtonEl.disabled = true;  // To prevent multiple clicks.\n",
       "          quickchartButtonEl.classList.add('colab-df-spinner');\n",
       "          try {\n",
       "            const charts = await google.colab.kernel.invokeFunction(\n",
       "                'suggestCharts', [key], {});\n",
       "          } catch (error) {\n",
       "            console.error('Error during call to suggestCharts:', error);\n",
       "          }\n",
       "          quickchartButtonEl.classList.remove('colab-df-spinner');\n",
       "          quickchartButtonEl.classList.add('colab-df-quickchart-complete');\n",
       "        }\n",
       "        (() => {\n",
       "          let quickchartButtonEl =\n",
       "            document.querySelector('#df-8427dc52-ce03-40aa-8076-0294246226c7 button');\n",
       "          quickchartButtonEl.style.display =\n",
       "            google.colab.kernel.accessAllowed ? 'block' : 'none';\n",
       "        })();\n",
       "      </script>\n",
       "    </div>\n",
       "\n",
       "    </div>\n",
       "  </div>\n"
      ],
      "text/plain": [
       "              temperature                 \n",
       "                      min       mean   max\n",
       "location                                  \n",
       "Abha                -29.5  18.001155  71.6\n",
       "Abidjan             -21.9  25.998862  76.3\n",
       "Abéché              -16.8  29.399406  80.0\n",
       "Accra               -26.1  26.394080  75.5\n",
       "Addis Ababa         -34.2  15.992698  68.5\n",
       "...                   ...        ...   ...\n",
       "Zagreb              -37.7  10.705807  61.9\n",
       "Zanzibar City       -20.6  25.997325  78.5\n",
       "Zürich              -42.5   9.299623  59.5\n",
       "Ürümqi              -44.2   7.405673  54.6\n",
       "İzmir               -30.5  17.892632  64.3\n",
       "\n",
       "[413 rows x 3 columns]"
      ]
     },
     "execution_count": 3,
     "metadata": {},
     "output_type": "execute_result"
    }
   ],
   "source": [
    "%%time\n",
    "temp.groupby(['location']).agg(['min', 'mean', 'max'])"
   ]
  },
  {
   "cell_type": "code",
   "execution_count": 4,
   "metadata": {
    "colab": {
     "base_uri": "https://localhost:8080/"
    },
    "executionInfo": {
     "elapsed": 1407,
     "status": "ok",
     "timestamp": 1746622302822,
     "user": {
      "displayName": "SW Kim",
      "userId": "01255046753553274360"
     },
     "user_tz": -540
    },
    "id": "zEdMY2XJ4slN",
    "outputId": "1bb7e315-f808-401f-ea35-16b01546eebb"
   },
   "outputs": [
    {
     "name": "stdout",
     "output_type": "stream",
     "text": [
      "CPU times: user 158 ms, sys: 529 ms, total: 687 ms\n",
      "Wall time: 1.4 s\n"
     ]
    }
   ],
   "source": [
    "%%time\n",
    "import duckdb\n",
    "temp = duckdb.read_csv('/content/drive/MyDrive/BigData/1brc/measurements.txt', delimiter=\";\", names = ['location', 'temperature'])"
   ]
  },
  {
   "cell_type": "code",
   "execution_count": 5,
   "metadata": {
    "colab": {
     "base_uri": "https://localhost:8080/",
     "height": 648,
     "referenced_widgets": [
      "c70b3a46874c469c904b382573d73bd6",
      "aea0fb61e3ab419fb3465ac6b17b71f2",
      "51b30e82a8ee4bd484cc153dd965f512"
     ]
    },
    "executionInfo": {
     "elapsed": 66038,
     "status": "ok",
     "timestamp": 1746622378279,
     "user": {
      "displayName": "SW Kim",
      "userId": "01255046753553274360"
     },
     "user_tz": -540
    },
    "id": "-C3T_mWw4slN",
    "outputId": "010bad50-cee3-4f7c-bd7c-3cd259cdf757"
   },
   "outputs": [
    {
     "data": {
      "application/vnd.jupyter.widget-view+json": {
       "model_id": "c70b3a46874c469c904b382573d73bd6",
       "version_major": 2,
       "version_minor": 0
      },
      "text/plain": [
       "FloatProgress(value=0.0, layout=Layout(width='auto'), style=ProgressStyle(bar_color='black'))"
      ]
     },
     "metadata": {},
     "output_type": "display_data"
    },
    {
     "name": "stdout",
     "output_type": "stream",
     "text": [
      "┌───────────────┬──────────────────┬────────────────────┬──────────────────┐\n",
      "│   location    │ min(temperature) │  avg(temperature)  │ max(temperature) │\n",
      "│    varchar    │      double      │       double       │      double      │\n",
      "├───────────────┼──────────────────┼────────────────────┼──────────────────┤\n",
      "│ Da Nang       │            -19.6 │ 25.794317776838728 │             77.6 │\n",
      "│ Napier        │            -34.0 │  14.60711256863259 │             68.5 │\n",
      "│ Lhasa         │            -43.2 │  7.609638145316413 │             56.3 │\n",
      "│ Kuala Lumpur  │            -21.3 │  27.30678651964085 │             76.0 │\n",
      "│ Mek'ele       │            -29.2 │  22.69705816072828 │             71.6 │\n",
      "│ Timbuktu      │            -18.0 │  28.00461024037227 │             76.0 │\n",
      "│ Garissa       │            -19.6 │ 29.296259483401432 │             79.9 │\n",
      "│ Cairns        │            -24.5 │ 24.991077445806773 │             73.4 │\n",
      "│ Winnipeg      │            -46.2 │ 3.0024632034775007 │             50.7 │\n",
      "│ Dampier       │            -27.1 │  26.39856189948389 │             72.2 │\n",
      "│    ·          │              ·   │          ·         │               ·  │\n",
      "│    ·          │              ·   │          ·         │               ·  │\n",
      "│    ·          │              ·   │          ·         │               ·  │\n",
      "│ Hat Yai       │            -22.4 │  26.99920841134695 │             77.6 │\n",
      "│ Sacramento    │            -38.5 │ 16.300991522185807 │             66.8 │\n",
      "│ Upington      │            -29.7 │ 20.405359693556797 │             72.2 │\n",
      "│ Sofia         │            -40.6 │  10.59952148824464 │             61.6 │\n",
      "│ Vilnius       │            -44.2 │  6.002671370697152 │             55.4 │\n",
      "│ Yerevan       │            -37.2 │ 12.410001441469081 │             64.9 │\n",
      "│ Banjul        │            -21.5 │ 26.008343569576052 │             80.0 │\n",
      "│ Rostov-on-Don │            -39.1 │  9.896800336928305 │             60.5 │\n",
      "│ Wrocław       │            -42.1 │  9.597849803612867 │             64.7 │\n",
      "│ Damascus      │            -33.6 │ 16.992065732591005 │             69.5 │\n",
      "├───────────────┴──────────────────┴────────────────────┴──────────────────┤\n",
      "│ 413 rows (20 shown)                                            4 columns │\n",
      "└──────────────────────────────────────────────────────────────────────────┘\n",
      "\n",
      "CPU times: user 3min 27s, sys: 6.79 s, total: 3min 34s\n",
      "Wall time: 1min 6s\n"
     ]
    }
   ],
   "source": [
    "%%time\n",
    "duckdb.sql(''' SELECT location, min(temperature), avg(temperature), max(temperature)\n",
    "               from temp\n",
    "               group by location''').show()"
   ]
  },
  {
   "cell_type": "code",
   "execution_count": 6,
   "metadata": {
    "colab": {
     "base_uri": "https://localhost:8080/",
     "height": 103,
     "referenced_widgets": [
      "f17790f18fa0430789c1e31e00e025bf",
      "bab1b2f5aa6f4d40bfcab3d78a814e0e",
      "c074e9cfa2c94d64b1b3b97720e57ac2"
     ]
    },
    "executionInfo": {
     "elapsed": 82501,
     "status": "ok",
     "timestamp": 1746622506325,
     "user": {
      "displayName": "SW Kim",
      "userId": "01255046753553274360"
     },
     "user_tz": -540
    },
    "id": "KulooDFE4slO",
    "outputId": "ae4b2252-5391-461f-c9a4-8fa53ba35504"
   },
   "outputs": [
    {
     "data": {
      "application/vnd.jupyter.widget-view+json": {
       "model_id": "f17790f18fa0430789c1e31e00e025bf",
       "version_major": 2,
       "version_minor": 0
      },
      "text/plain": [
       "FloatProgress(value=0.0, layout=Layout(width='auto'), style=ProgressStyle(bar_color='black'))"
      ]
     },
     "metadata": {},
     "output_type": "display_data"
    },
    {
     "name": "stdout",
     "output_type": "stream",
     "text": [
      "CPU times: user 8min 20s, sys: 24.3 s, total: 8min 44s\n",
      "Wall time: 1min 22s\n"
     ]
    },
    {
     "data": {
      "text/plain": [
       "<duckdb.duckdb.DuckDBPyConnection at 0x7a64744d17b0>"
      ]
     },
     "execution_count": 6,
     "metadata": {},
     "output_type": "execute_result"
    }
   ],
   "source": [
    "%%time\n",
    "import duckdb\n",
    "con = duckdb.connect(database=':memory:')\n",
    "\n",
    "con.execute(\"\"\"\n",
    " COPY (select * FROM read_csv('/content/drive/MyDrive/BigData/1brc/measurements.txt', delim=';', header=False,\n",
    " columns = {'location':'VARCHAR','temperature':'float'}))\n",
    " TO '/content/drive/MyDrive/BigData/1brc/measurements.parquet'\n",
    " (FORMAT PARQUET, CODEC 'SNAPPY');\n",
    "\"\"\")\n"
   ]
  },
  {
   "cell_type": "code",
   "execution_count": 2,
   "metadata": {
    "colab": {
     "base_uri": "https://localhost:8080/"
    },
    "executionInfo": {
     "elapsed": 2584,
     "status": "ok",
     "timestamp": 1746622715313,
     "user": {
      "displayName": "SW Kim",
      "userId": "01255046753553274360"
     },
     "user_tz": -540
    },
    "id": "6u2YDXiC4slO",
    "outputId": "bc56a31e-c156-4dae-e7f6-a4f5369f5147"
   },
   "outputs": [
    {
     "name": "stdout",
     "output_type": "stream",
     "text": [
      "CPU times: user 223 ms, sys: 42.7 ms, total: 266 ms\n",
      "Wall time: 2.58 s\n"
     ]
    }
   ],
   "source": [
    "%%time\n",
    "import duckdb\n",
    "temp = duckdb.read_parquet('/content/drive/MyDrive/BigData/1brc/measurements.parquet')"
   ]
  },
  {
   "cell_type": "code",
   "execution_count": 3,
   "metadata": {
    "colab": {
     "base_uri": "https://localhost:8080/"
    },
    "executionInfo": {
     "elapsed": 487,
     "status": "ok",
     "timestamp": 1746622717433,
     "user": {
      "displayName": "SW Kim",
      "userId": "01255046753553274360"
     },
     "user_tz": -540
    },
    "id": "5g3Gye7j4slO",
    "outputId": "af5e40aa-4f55-43aa-ecbd-a06c0f64a10d"
   },
   "outputs": [
    {
     "data": {
      "text/plain": [
       "┌──────────────────┬─────────────┐\n",
       "│     location     │ temperature │\n",
       "│     varchar      │    float    │\n",
       "├──────────────────┼─────────────┤\n",
       "│ Flores,  Petén   │        25.5 │\n",
       "│ Port Moresby     │        18.5 │\n",
       "│ Accra            │        24.9 │\n",
       "│ Abha             │         7.6 │\n",
       "│ Chicago          │        -0.2 │\n",
       "│ Kampala          │        24.0 │\n",
       "│ Seoul            │        18.2 │\n",
       "│ Reykjavík        │        -3.8 │\n",
       "│ Lviv             │        17.0 │\n",
       "│ Hargeisa         │        29.9 │\n",
       "│    ·             │          ·  │\n",
       "│    ·             │          ·  │\n",
       "│    ·             │          ·  │\n",
       "│ Washington, D.C. │        22.9 │\n",
       "│ Louisville       │        15.4 │\n",
       "│ Kunming          │         7.3 │\n",
       "│ Rostov-on-Don    │        18.9 │\n",
       "│ Nassau           │        34.0 │\n",
       "│ Hat Yai          │        19.0 │\n",
       "│ Yaoundé          │        10.9 │\n",
       "│ Mexico City      │         6.7 │\n",
       "│ Napier           │         5.5 │\n",
       "│ Panama City      │        42.1 │\n",
       "├──────────────────┴─────────────┤\n",
       "│ ? rows (>9999 rows, 20 shown)  │\n",
       "└────────────────────────────────┘"
      ]
     },
     "execution_count": 3,
     "metadata": {},
     "output_type": "execute_result"
    }
   ],
   "source": [
    "temp"
   ]
  },
  {
   "cell_type": "code",
   "execution_count": 4,
   "metadata": {
    "colab": {
     "base_uri": "https://localhost:8080/",
     "height": 648,
     "referenced_widgets": [
      "253dbb42d5d742d28555a0ae8472fab7",
      "4562a2cd768840988d88fb7b0c8ffb63",
      "89d16114fe1243d28ab247ff69a9b6f6"
     ]
    },
    "executionInfo": {
     "elapsed": 61092,
     "status": "ok",
     "timestamp": 1746622780431,
     "user": {
      "displayName": "SW Kim",
      "userId": "01255046753553274360"
     },
     "user_tz": -540
    },
    "id": "T_A95-cTBtWn",
    "outputId": "16629e29-6d8c-4737-a04f-c954a1359633"
   },
   "outputs": [
    {
     "data": {
      "application/vnd.jupyter.widget-view+json": {
       "model_id": "253dbb42d5d742d28555a0ae8472fab7",
       "version_major": 2,
       "version_minor": 0
      },
      "text/plain": [
       "FloatProgress(value=0.0, layout=Layout(width='auto'), style=ProgressStyle(bar_color='black'))"
      ]
     },
     "metadata": {},
     "output_type": "display_data"
    },
    {
     "name": "stdout",
     "output_type": "stream",
     "text": [
      "┌─────────────┬──────────────────┬────────────────────┬──────────────────┐\n",
      "│  location   │ min(temperature) │  avg(temperature)  │ max(temperature) │\n",
      "│   varchar   │      float       │       double       │      float       │\n",
      "├─────────────┼──────────────────┼────────────────────┼──────────────────┤\n",
      "│ Kandi       │            -21.7 │ 27.701656342694715 │             75.5 │\n",
      "│ Phoenix     │            -28.1 │ 23.906392906249152 │             73.6 │\n",
      "│ Tauranga    │            -34.6 │ 14.788784386384213 │             63.6 │\n",
      "│ Kingston    │            -23.3 │  27.38877133249757 │             77.3 │\n",
      "│ George Town │            -24.0 │ 27.899197318536302 │             76.0 │\n",
      "│ Yakutsk     │            -56.2 │  -8.79331310750376 │             42.2 │\n",
      "│ Makassar    │            -25.2 │  26.70028826944658 │             77.3 │\n",
      "│ Atlanta     │            -34.7 │ 16.995966168977137 │             66.7 │\n",
      "│ Nicosia     │            -31.8 │ 19.703818858918424 │             68.8 │\n",
      "│ Valletta    │            -28.4 │ 18.804851333558897 │             69.5 │\n",
      "│    ·        │              ·   │          ·         │               ·  │\n",
      "│    ·        │              ·   │          ·         │               ·  │\n",
      "│    ·        │              ·   │          ·         │               ·  │\n",
      "│ Reggane     │            -19.1 │  28.29838286658578 │             77.3 │\n",
      "│ Columbus    │            -35.3 │ 11.693453275672407 │             58.3 │\n",
      "│ Cairo       │            -26.5 │  21.41046024988791 │             71.0 │\n",
      "│ Sofia       │            -40.6 │ 10.599521489013828 │             61.6 │\n",
      "│ Toronto     │            -41.3 │  9.413291013834192 │             57.2 │\n",
      "│ Ashgabat    │            -30.8 │  17.10494502015593 │             69.4 │\n",
      "│ Ankara      │            -36.1 │ 11.996021090009407 │             61.0 │\n",
      "│ Toamasina   │            -26.6 │  23.40382434621877 │             72.1 │\n",
      "│ Libreville  │            -27.7 │ 25.899611012018994 │             79.2 │\n",
      "│ Ottawa      │            -46.4 │  6.592651173630411 │             56.4 │\n",
      "├─────────────┴──────────────────┴────────────────────┴──────────────────┤\n",
      "│ 413 rows (20 shown)                                          4 columns │\n",
      "└────────────────────────────────────────────────────────────────────────┘\n",
      "\n",
      "CPU times: user 2min 10s, sys: 5.78 s, total: 2min 16s\n",
      "Wall time: 1min 1s\n"
     ]
    }
   ],
   "source": [
    "%%time\n",
    "duckdb.sql(''' SELECT location, min(temperature), avg(temperature), max(temperature)\n",
    "               from temp\n",
    "               group by location''').show()"
   ]
  },
  {
   "cell_type": "code",
   "execution_count": null,
   "metadata": {
    "id": "HZXx5hzn4slO"
   },
   "outputs": [],
   "source": [
    "%%time\n",
    "import polars as pl\n",
    "temp = pl.read_csv('/content/drive/MyDrive/BigData/1brc/measurements.txt',  separator=\";\",\n",
    "                    new_columns=[\"location\", \"temperature\"], has_header=False)"
   ]
  },
  {
   "cell_type": "code",
   "execution_count": null,
   "metadata": {
    "id": "B1Aco4ki4slP"
   },
   "outputs": [],
   "source": [
    "temp.group_by([\"location\"]).agg(pl.col(\"temperature\").mean())"
   ]
  },
  {
   "cell_type": "code",
   "execution_count": null,
   "metadata": {
    "id": "m5vvSf_84slP"
   },
   "outputs": [],
   "source": []
  }
 ],
 "metadata": {
  "colab": {
   "machine_shape": "hm",
   "provenance": []
  },
  "kernelspec": {
   "display_name": "Python 3",
   "name": "python3"
  },
  "language_info": {
   "codemirror_mode": {
    "name": "ipython",
    "version": 3
   },
   "file_extension": ".py",
   "mimetype": "text/x-python",
   "name": "python",
   "nbconvert_exporter": "python",
   "pygments_lexer": "ipython3",
   "version": "3.11.5"
  },
  "widgets": {
   "application/vnd.jupyter.widget-state+json": {
    "253dbb42d5d742d28555a0ae8472fab7": {
     "model_module": "@jupyter-widgets/controls",
     "model_module_version": "1.5.0",
     "model_name": "FloatProgressModel",
     "state": {
      "_dom_classes": [],
      "_model_module": "@jupyter-widgets/controls",
      "_model_module_version": "1.5.0",
      "_model_name": "FloatProgressModel",
      "_view_count": null,
      "_view_module": "@jupyter-widgets/controls",
      "_view_module_version": "1.5.0",
      "_view_name": "ProgressView",
      "bar_style": "",
      "description": "",
      "description_tooltip": null,
      "layout": "IPY_MODEL_4562a2cd768840988d88fb7b0c8ffb63",
      "max": 100,
      "min": 0,
      "orientation": "horizontal",
      "style": "IPY_MODEL_89d16114fe1243d28ab247ff69a9b6f6",
      "value": 100
     }
    },
    "4562a2cd768840988d88fb7b0c8ffb63": {
     "model_module": "@jupyter-widgets/base",
     "model_module_version": "1.2.0",
     "model_name": "LayoutModel",
     "state": {
      "_model_module": "@jupyter-widgets/base",
      "_model_module_version": "1.2.0",
      "_model_name": "LayoutModel",
      "_view_count": null,
      "_view_module": "@jupyter-widgets/base",
      "_view_module_version": "1.2.0",
      "_view_name": "LayoutView",
      "align_content": null,
      "align_items": null,
      "align_self": null,
      "border": null,
      "bottom": null,
      "display": null,
      "flex": null,
      "flex_flow": null,
      "grid_area": null,
      "grid_auto_columns": null,
      "grid_auto_flow": null,
      "grid_auto_rows": null,
      "grid_column": null,
      "grid_gap": null,
      "grid_row": null,
      "grid_template_areas": null,
      "grid_template_columns": null,
      "grid_template_rows": null,
      "height": null,
      "justify_content": null,
      "justify_items": null,
      "left": null,
      "margin": null,
      "max_height": null,
      "max_width": null,
      "min_height": null,
      "min_width": null,
      "object_fit": null,
      "object_position": null,
      "order": null,
      "overflow": null,
      "overflow_x": null,
      "overflow_y": null,
      "padding": null,
      "right": null,
      "top": null,
      "visibility": null,
      "width": "auto"
     }
    },
    "51b30e82a8ee4bd484cc153dd965f512": {
     "model_module": "@jupyter-widgets/controls",
     "model_module_version": "1.5.0",
     "model_name": "ProgressStyleModel",
     "state": {
      "_model_module": "@jupyter-widgets/controls",
      "_model_module_version": "1.5.0",
      "_model_name": "ProgressStyleModel",
      "_view_count": null,
      "_view_module": "@jupyter-widgets/base",
      "_view_module_version": "1.2.0",
      "_view_name": "StyleView",
      "bar_color": "black",
      "description_width": ""
     }
    },
    "89d16114fe1243d28ab247ff69a9b6f6": {
     "model_module": "@jupyter-widgets/controls",
     "model_module_version": "1.5.0",
     "model_name": "ProgressStyleModel",
     "state": {
      "_model_module": "@jupyter-widgets/controls",
      "_model_module_version": "1.5.0",
      "_model_name": "ProgressStyleModel",
      "_view_count": null,
      "_view_module": "@jupyter-widgets/base",
      "_view_module_version": "1.2.0",
      "_view_name": "StyleView",
      "bar_color": "black",
      "description_width": ""
     }
    },
    "aea0fb61e3ab419fb3465ac6b17b71f2": {
     "model_module": "@jupyter-widgets/base",
     "model_module_version": "1.2.0",
     "model_name": "LayoutModel",
     "state": {
      "_model_module": "@jupyter-widgets/base",
      "_model_module_version": "1.2.0",
      "_model_name": "LayoutModel",
      "_view_count": null,
      "_view_module": "@jupyter-widgets/base",
      "_view_module_version": "1.2.0",
      "_view_name": "LayoutView",
      "align_content": null,
      "align_items": null,
      "align_self": null,
      "border": null,
      "bottom": null,
      "display": null,
      "flex": null,
      "flex_flow": null,
      "grid_area": null,
      "grid_auto_columns": null,
      "grid_auto_flow": null,
      "grid_auto_rows": null,
      "grid_column": null,
      "grid_gap": null,
      "grid_row": null,
      "grid_template_areas": null,
      "grid_template_columns": null,
      "grid_template_rows": null,
      "height": null,
      "justify_content": null,
      "justify_items": null,
      "left": null,
      "margin": null,
      "max_height": null,
      "max_width": null,
      "min_height": null,
      "min_width": null,
      "object_fit": null,
      "object_position": null,
      "order": null,
      "overflow": null,
      "overflow_x": null,
      "overflow_y": null,
      "padding": null,
      "right": null,
      "top": null,
      "visibility": null,
      "width": "auto"
     }
    },
    "bab1b2f5aa6f4d40bfcab3d78a814e0e": {
     "model_module": "@jupyter-widgets/base",
     "model_module_version": "1.2.0",
     "model_name": "LayoutModel",
     "state": {
      "_model_module": "@jupyter-widgets/base",
      "_model_module_version": "1.2.0",
      "_model_name": "LayoutModel",
      "_view_count": null,
      "_view_module": "@jupyter-widgets/base",
      "_view_module_version": "1.2.0",
      "_view_name": "LayoutView",
      "align_content": null,
      "align_items": null,
      "align_self": null,
      "border": null,
      "bottom": null,
      "display": null,
      "flex": null,
      "flex_flow": null,
      "grid_area": null,
      "grid_auto_columns": null,
      "grid_auto_flow": null,
      "grid_auto_rows": null,
      "grid_column": null,
      "grid_gap": null,
      "grid_row": null,
      "grid_template_areas": null,
      "grid_template_columns": null,
      "grid_template_rows": null,
      "height": null,
      "justify_content": null,
      "justify_items": null,
      "left": null,
      "margin": null,
      "max_height": null,
      "max_width": null,
      "min_height": null,
      "min_width": null,
      "object_fit": null,
      "object_position": null,
      "order": null,
      "overflow": null,
      "overflow_x": null,
      "overflow_y": null,
      "padding": null,
      "right": null,
      "top": null,
      "visibility": null,
      "width": "auto"
     }
    },
    "c074e9cfa2c94d64b1b3b97720e57ac2": {
     "model_module": "@jupyter-widgets/controls",
     "model_module_version": "1.5.0",
     "model_name": "ProgressStyleModel",
     "state": {
      "_model_module": "@jupyter-widgets/controls",
      "_model_module_version": "1.5.0",
      "_model_name": "ProgressStyleModel",
      "_view_count": null,
      "_view_module": "@jupyter-widgets/base",
      "_view_module_version": "1.2.0",
      "_view_name": "StyleView",
      "bar_color": "black",
      "description_width": ""
     }
    },
    "c70b3a46874c469c904b382573d73bd6": {
     "model_module": "@jupyter-widgets/controls",
     "model_module_version": "1.5.0",
     "model_name": "FloatProgressModel",
     "state": {
      "_dom_classes": [],
      "_model_module": "@jupyter-widgets/controls",
      "_model_module_version": "1.5.0",
      "_model_name": "FloatProgressModel",
      "_view_count": null,
      "_view_module": "@jupyter-widgets/controls",
      "_view_module_version": "1.5.0",
      "_view_name": "ProgressView",
      "bar_style": "",
      "description": "",
      "description_tooltip": null,
      "layout": "IPY_MODEL_aea0fb61e3ab419fb3465ac6b17b71f2",
      "max": 100,
      "min": 0,
      "orientation": "horizontal",
      "style": "IPY_MODEL_51b30e82a8ee4bd484cc153dd965f512",
      "value": 100
     }
    },
    "f17790f18fa0430789c1e31e00e025bf": {
     "model_module": "@jupyter-widgets/controls",
     "model_module_version": "1.5.0",
     "model_name": "FloatProgressModel",
     "state": {
      "_dom_classes": [],
      "_model_module": "@jupyter-widgets/controls",
      "_model_module_version": "1.5.0",
      "_model_name": "FloatProgressModel",
      "_view_count": null,
      "_view_module": "@jupyter-widgets/controls",
      "_view_module_version": "1.5.0",
      "_view_name": "ProgressView",
      "bar_style": "",
      "description": "",
      "description_tooltip": null,
      "layout": "IPY_MODEL_bab1b2f5aa6f4d40bfcab3d78a814e0e",
      "max": 100,
      "min": 0,
      "orientation": "horizontal",
      "style": "IPY_MODEL_c074e9cfa2c94d64b1b3b97720e57ac2",
      "value": 100
     }
    }
   }
  }
 },
 "nbformat": 4,
 "nbformat_minor": 0
}
